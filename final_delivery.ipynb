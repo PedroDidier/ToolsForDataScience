{
 "cells": [
  {
   "cell_type": "markdown",
   "id": "00649b27",
   "metadata": {},
   "source": [
    "# My Jupyter Notebook on IBM Watson Studio"
   ]
  },
  {
   "cell_type": "markdown",
   "id": "efdf53a8",
   "metadata": {},
   "source": [
    "**Pedro Didier**  \n",
    "Data Scientist at A3Data (Brazil)"
   ]
  },
  {
   "cell_type": "markdown",
   "id": "4ad55182",
   "metadata": {},
   "source": [
    "*I am interested in data science because I am really passionate about drawing conclusions by examining data, finding its secrets and relations. I also enjoy statistics and linear algebra a lot, so seeing those in action is a real thrill for me.*"
   ]
  },
  {
   "cell_type": "markdown",
   "id": "c661bd58",
   "metadata": {},
   "source": [
    "### This piece of code is a simple recursion to calculate the nth term of Fibonacci's sequence"
   ]
  },
  {
   "cell_type": "code",
   "execution_count": 1,
   "id": "94b3c1a6",
   "metadata": {},
   "outputs": [],
   "source": [
    "def fib(n):\n",
    "    # Exception\n",
    "    if n < 0:\n",
    "        raise Exception(\"Sorry, no numbers below zero are accepted\")\n",
    "    \n",
    "    # Base cases\n",
    "    if n == 1:\n",
    "        return 1\n",
    "    if n == 0:\n",
    "        return 0\n",
    "     \n",
    "    return fib(n-1) + fib(n-2) # else"
   ]
  },
  {
   "cell_type": "markdown",
   "id": "433409e8",
   "metadata": {},
   "source": [
    "| table | table |\n",
    "| ----- | ----- |\n",
    "| this is | a table |\n",
    "\n",
    "*  A Bullet List\n",
    "*  A Bullet List\n",
    "\n",
    "URL: https://youtube.com"
   ]
  }
 ],
 "metadata": {
  "kernelspec": {
   "display_name": "Python 3",
   "language": "python",
   "name": "python3"
  },
  "language_info": {
   "codemirror_mode": {
    "name": "ipython",
    "version": 3
   },
   "file_extension": ".py",
   "mimetype": "text/x-python",
   "name": "python",
   "nbconvert_exporter": "python",
   "pygments_lexer": "ipython3",
   "version": "3.8.8"
  }
 },
 "nbformat": 4,
 "nbformat_minor": 5
}
